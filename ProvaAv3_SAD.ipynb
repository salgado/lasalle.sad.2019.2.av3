{
  "nbformat": 4,
  "nbformat_minor": 0,
  "metadata": {
    "colab": {
      "name": "ProvaAv3_SAD.ipynb",
      "version": "0.3.2",
      "provenance": [],
      "collapsed_sections": []
    },
    "kernelspec": {
      "display_name": "Python 3",
      "language": "python",
      "name": "python3"
    }
  },
  "cells": [
    {
      "metadata": {
        "id": "reuEvXQklx3Z",
        "colab_type": "text"
      },
      "cell_type": "markdown",
      "source": [
        "DISCIPLINA: Gestão do Conhecimento \tPROFESSOR(A): Alex Salgado \n",
        " \n",
        "PERÍODO: 7o. \t\t\t\tTURNO: noite \t\tAVALIAÇÃO: \n",
        " \n",
        "ALUNO(A): _________________________________________________________\n",
        " \n",
        "GRAU: \t\t\t\t\t\t\tVISTO DO PROFESSOR:\n",
        " \n",
        "Preencha sua resposta no próprio arquivo do Jupyter e depois me envie no link abaixo:\n",
        "resposta: https://goo.gl/forms/wuTdyyNoVXwVfD7v2\n"
      ]
    },
    {
      "metadata": {
        "id": "-AjMlE5Slx3d",
        "colab_type": "text"
      },
      "cell_type": "markdown",
      "source": [
        "## Questão 1 - valor (1,5)\n",
        "1.1 - Importar os modulos python para machine learn e carregar o arquivo pacotes-av3.xlsx usando o método read_excel do pandas"
      ]
    },
    {
      "metadata": {
        "id": "zzv7qufwlx3h",
        "colab_type": "code",
        "colab": {}
      },
      "cell_type": "code",
      "source": [
        ""
      ],
      "execution_count": 0,
      "outputs": []
    },
    {
      "metadata": {
        "id": "bl-OxkXzlx3u",
        "colab_type": "text"
      },
      "cell_type": "markdown",
      "source": [
        "1.2 - Exibir os primeiros registros desta tabela"
      ]
    },
    {
      "metadata": {
        "id": "W5fGgvVNlx3x",
        "colab_type": "code",
        "colab": {}
      },
      "cell_type": "code",
      "source": [
        ""
      ],
      "execution_count": 0,
      "outputs": []
    },
    {
      "metadata": {
        "id": "PCZSAexklx36",
        "colab_type": "text"
      },
      "cell_type": "markdown",
      "source": [
        "## Questão 2 - valor (1,5)\n",
        "Utilizando as terminologias de Machine Learning(features e observações):  \n",
        "2.1 - Quantas \"features\" têm nessa base de dados?"
      ]
    },
    {
      "metadata": {
        "id": "ph7yS0DWlx37",
        "colab_type": "code",
        "colab": {}
      },
      "cell_type": "code",
      "source": [
        ""
      ],
      "execution_count": 0,
      "outputs": []
    },
    {
      "metadata": {
        "id": "en8rJok0lx4A",
        "colab_type": "text"
      },
      "cell_type": "markdown",
      "source": [
        "2.2 - Quantas observações têm nessa base de dados?"
      ]
    },
    {
      "metadata": {
        "id": "uxZNnkxglx4C",
        "colab_type": "code",
        "colab": {}
      },
      "cell_type": "code",
      "source": [
        ""
      ],
      "execution_count": 0,
      "outputs": []
    },
    {
      "metadata": {
        "id": "P1Wr8CNulx4G",
        "colab_type": "text"
      },
      "cell_type": "markdown",
      "source": [
        "## Questão 3 - valor (3,0)\n",
        "3.1 - Usando o algoritmo de KNN(11), qual a previsão? Adivinhe qual é o pacote com peso 787g, largura 86.8 cm, altura 18.88 cm, ou seja, com as seguintes features (peso = 787, largura=86.8, altura=18.88).\n"
      ]
    },
    {
      "metadata": {
        "id": "KEbvOIMtlx4H",
        "colab_type": "code",
        "colab": {}
      },
      "cell_type": "code",
      "source": [
        ""
      ],
      "execution_count": 0,
      "outputs": []
    },
    {
      "metadata": {
        "id": "wc7IpI-xlx4N",
        "colab_type": "text"
      },
      "cell_type": "markdown",
      "source": [
        "## Questão 4 - valor (4,0)\n",
        "Usando o método de avaliação de acurácia ( Train/Test Split), Calcular a acurácia de cada um dos 3 métodos abaixo.  \n",
        "\n",
        "\n",
        "\n",
        "4.1 - Acurácia usando o algoritmo de KNN (com 1 vizinho, k=1)\n"
      ]
    },
    {
      "metadata": {
        "id": "uaidspMSlx4P",
        "colab_type": "code",
        "colab": {}
      },
      "cell_type": "code",
      "source": [
        ""
      ],
      "execution_count": 0,
      "outputs": []
    },
    {
      "metadata": {
        "id": "SWOBSfPXlx4S",
        "colab_type": "text"
      },
      "cell_type": "markdown",
      "source": [
        "4.2 - Acurácia usando o algoritmo de KNN (com 5 vizinho, k=7)"
      ]
    },
    {
      "metadata": {
        "id": "bQv2hVRulx4T",
        "colab_type": "code",
        "colab": {}
      },
      "cell_type": "code",
      "source": [
        ""
      ],
      "execution_count": 0,
      "outputs": []
    },
    {
      "metadata": {
        "id": "vLF_1RsRlx4Y",
        "colab_type": "text"
      },
      "cell_type": "markdown",
      "source": [
        "4.3 - Acurácia usando o algoritmo de LogisticRegression"
      ]
    },
    {
      "metadata": {
        "id": "onNHe7r4lx4Z",
        "colab_type": "code",
        "colab": {}
      },
      "cell_type": "code",
      "source": [
        ""
      ],
      "execution_count": 0,
      "outputs": []
    },
    {
      "metadata": {
        "id": "tEhjoBYnlx4e",
        "colab_type": "text"
      },
      "cell_type": "markdown",
      "source": [
        "4.4 - De acordo com seus resultados anteriores, qual dos 3 métodos é mais eficiente?"
      ]
    },
    {
      "metadata": {
        "id": "c2JkFVY7lx4g",
        "colab_type": "text"
      },
      "cell_type": "markdown",
      "source": [
        " "
      ]
    }
  ]
}
